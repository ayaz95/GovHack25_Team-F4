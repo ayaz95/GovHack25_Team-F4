{
 "cells": [
  {
   "cell_type": "code",
   "execution_count": 3,
   "id": "2e8d8a8f-27cd-40c8-97b3-f70f2b71b8cf",
   "metadata": {},
   "outputs": [
    {
     "name": "stdout",
     "output_type": "stream",
     "text": [
      "Number of chunks: 11\n"
     ]
    }
   ],
   "source": [
    "import requests\n",
    "from bs4 import BeautifulSoup\n",
    "from langchain.text_splitter import RecursiveCharacterTextSplitter\n",
    "\n",
    "headers = {'User-Agent': 'Mozilla/5.0 (Windows NT 10.0; Win64; x64) AppleWebKit/537.36 (KHTML, like Gecko) Chrome/58.0.3029.110 Safari/537.3'}\n",
    "\n",
    "# Function to scrape a webpage\n",
    "def scrape_website(url):\n",
    "    response = requests.get(url, headers=headers)\n",
    "    soup = BeautifulSoup(response.content, 'html.parser')\n",
    "    text = ' '.join([p.text for p in soup.find_all('p')])  # Get text from all paragraphs\n",
    "    return text\n",
    "\n",
    "# Scrape the data\n",
    "url = \"https://www.melbourne.vic.gov.au/portable-advertising-board-permits\"  # Replace with the URL of your choice\n",
    "raw_text = scrape_website(url)\n",
    "\n",
    "# Initialize the text splitter\n",
    "text_splitter = RecursiveCharacterTextSplitter(\n",
    "    chunk_size=1000,\n",
    "    chunk_overlap=200,\n",
    "    length_function=len,\n",
    ")\n",
    "\n",
    "# Split the text into chunks\n",
    "chunks = text_splitter.split_text(raw_text)\n",
    "\n",
    "print(f\"Number of chunks: {len(chunks)}\")"
   ]
  },
  {
   "cell_type": "code",
   "execution_count": 4,
   "id": "74af2090-071e-4064-abe3-bbea6b699b8b",
   "metadata": {},
   "outputs": [
    {
     "name": "stderr",
     "output_type": "stream",
     "text": [
      "/opt/anaconda3/envs/llms/lib/python3.11/site-packages/torch/nn/modules/module.py:1762: FutureWarning: `encoder_attention_mask` is deprecated and will be removed in version 4.55.0 for `BertSdpaSelfAttention.forward`.\n",
      "  return forward_call(*args, **kwargs)\n"
     ]
    },
    {
     "name": "stdout",
     "output_type": "stream",
     "text": [
      "Vector database created and persisted.\n"
     ]
    },
    {
     "name": "stderr",
     "output_type": "stream",
     "text": [
      "/var/folders/1f/z6mh1kn910jd7cg_7qxv3b5c0000gn/T/ipykernel_74674/147885906.py:17: LangChainDeprecationWarning: Since Chroma 0.4.x the manual persistence method is no longer supported as docs are automatically persisted.\n",
      "  vector_db.persist()\n"
     ]
    }
   ],
   "source": [
    "from langchain_community.embeddings import HuggingFaceEmbeddings\n",
    "from langchain_community.vectorstores import Chroma\n",
    "\n",
    "# Initialize the embedding model\n",
    "model_name = \"sentence-transformers/all-MiniLM-L6-v2\"\n",
    "embeddings = HuggingFaceEmbeddings(model_name=model_name)\n",
    "\n",
    "# Vector store from chunks\n",
    "vector_db = Chroma.from_texts(\n",
    "    texts=chunks,\n",
    "    embedding=embeddings,\n",
    "    persist_directory=\"./chroma_db\"\n",
    ")\n",
    "\n",
    "vector_db.persist()\n",
    "\n",
    "print(\"Vector database created and persisted.\")"
   ]
  },
  {
   "cell_type": "code",
   "execution_count": 6,
   "id": "434c7125-22cc-4dc6-80cc-422e7f84d3f7",
   "metadata": {},
   "outputs": [
    {
     "name": "stderr",
     "output_type": "stream",
     "text": [
      "/opt/anaconda3/envs/llms/lib/python3.11/site-packages/torch/nn/modules/module.py:1762: FutureWarning: `encoder_attention_mask` is deprecated and will be removed in version 4.55.0 for `BertSdpaSelfAttention.forward`.\n",
      "  return forward_call(*args, **kwargs)\n"
     ]
    },
    {
     "name": "stdout",
     "output_type": "stream",
     "text": [
      "\n",
      "--- Model Response ---\n",
      "To put up a portable advertising board (sandwich board) on the footpath outside your cafe in the City of Melbourne, you will need a permit. \n",
      "\n",
      "You must hold public liability insurance with a minimum coverage of $20 million for a single claim. The policy must cover any location within the municipality and must list City of Melbourne as an interested party.\n",
      "\n",
      "You also need to upload a current letter on official letterhead from your cafe's property owner or body corporate, stating they have no objection to you placing a portable advertising board outside their property.\n",
      "\n",
      "There is a non-refundable application fee of $248 per application, and a permit fee of $754 per permit. Permits are valid for 12 months from the date of issue.\n",
      "\n",
      "Additionally, you should review the permit conditions to ensure that your location is not in a prohibited area (such as parks or gardens) and that you will be responsible for keeping the streets clean and minimizing disturbance from late-night bin collection as part of being a permit holder.\n",
      "\n",
      "--- Source Documents ---\n",
      "will be responsible for ensuring: Please review the portable advertising board permit conditions: Portable advertising board permit conditions Portable advertising board permit conditions Once your application has been received, we'll arrange an inspection of the proposed board location to determine whether it is safe and appropriate to issue a permit. You will need to upload a public liability insurance certificate of currency with a minimum coverage of $20 million for a single claim. The policy must cover any location within the municipality and must list City of Melbourne as an interested party. Read more about our public liability insurance requirements. If you propose to place an advertising board in front of a multi-tenanted property, you will also need to upload a current letter on official letterhead from the property owner or body corporate, stating they have no objection to you placing a portable advertising board outside the property. A new letter is required when renewing\n",
      "boards to be displayed across the municipality on a given day. To be eligible for this permit your agency must hold public liability insurance with a minimum coverage of $20 million. See supporting documents below for more information. Permit holders are responsible for ensuring: Please review the permit conditions: Real estate pointer board permit conditions Real estate pointer board permit conditions You need to upload a public liability insurance certificate of currency with a minimum coverage of $20 million for a single claim. The policy must cover any location within the municipality and must list City of Melbourne as an interested party. Read more about our public liability insurance requirements External link. Non-refundable​ application fee of $248 per application (payable at the time your online application is submitted). Permit fee of $754 per permit (payment must be made before the permit can be issued). Permits are valid for 12 months from the date of issue. Apply for a\n",
      "vacancies and job opportunities on our Careers website. Explore council services, Melbourne landmarks and suburbs with our interactive maps. Suggestions Suggestions Businesses including real estate agencies need a permit to place any portable advertising board in a public place within the municipality. ​​​​​​​​​​​​​​​​​​​​​​​​​​​​​Public places include road-related areas, Council land, areas designated by Council or other locations where activities are likely to impact residents or visitors. Read more about how our Activities Local Law protects the amenity of public places. We do not permit portable advertising boards of any kind to be displayed in parks and gardens, or the following designated areas due to high pedestrian volumes: To be eligible for this permit:  As a permit holder, you will be responsible for ensuring: Please review the portable advertising board permit conditions: Portable advertising board permit conditions Portable advertising board permit conditions Once your\n",
      "advice on how to start or grow your business.  Funding support for small businesses. Helping to keep our streets clean and minimise disturbance from late-night bin collection. Join the thousands of other businesses choosing Melbourne: the Venture Capital. Melbourne is the most exciting place to do business.  A guide to buying off-site renewable electricity. Discover our early literacy activities, storytimes, homework clubs, school holiday programs and more. First Nations community organisations can book spaces at our libraries and community hubs for free. We have nearly 480 hectares of parks and green spaces, Across our five centres, we offer a variety of fitness programs, swim facilities and membership options. Join challenges, book fitness classes and track your progress with our app. See in the New Year aboard your boat in Docklands. Bookings are limited, ballot entries open in September. Requirements for event permit applicants and guides for planning a safe, inclusive and\n"
     ]
    }
   ],
   "source": [
    "from langchain.prompts import PromptTemplate\n",
    "from langchain_community.llms import Ollama\n",
    "from langchain.chains import RetrievalQA\n",
    "\n",
    "# Initialize the LLM (make sure Ollama is running with a model like 'llama2')\n",
    "llm = Ollama(model=\"llama3.2\")\n",
    "\n",
    "# Create a retriever from the vector store\n",
    "retriever = vector_db.as_retriever()\n",
    "\n",
    "# Create a prompt template for the LLM\n",
    "prompt_template = \"\"\"\n",
    "Use the following context to answer the question. If you don't know the answer, say you don't know.\n",
    "Context: {context}\n",
    "Question: {question}\n",
    "\"\"\"\n",
    "PROMPT = PromptTemplate(\n",
    "    template=prompt_template,\n",
    "    input_variables=[\"context\", \"question\"]\n",
    ")\n",
    "\n",
    "# Set up the RAG chain\n",
    "qa_chain = RetrievalQA.from_chain_type(\n",
    "    llm=llm,\n",
    "    chain_type=\"stuff\",  # 'stuff' puts all retrieved docs in one context\n",
    "    retriever=retriever,\n",
    "    return_source_documents=True,\n",
    "    chain_type_kwargs={\"prompt\": PROMPT}\n",
    ")\n",
    "\n",
    "# user query\n",
    "query = \"I just opened a cafe in the City of Melbourne, and I want to put a sandwich board on the footpath. What are the rules and do I need a permit?\"\n",
    "response = qa_chain.invoke({\"query\": query})\n",
    "\n",
    "print(\"\\n--- Model Response ---\")\n",
    "print(response['result'])\n"
   ]
  },
  {
   "cell_type": "markdown",
   "id": "15665fa9-5cad-427b-9a09-b7bde51dd91d",
   "metadata": {},
   "source": [
    "### Chatbot Functionality"
   ]
  },
  {
   "cell_type": "code",
   "execution_count": null,
   "id": "7ed77bb5-f732-4c59-98fc-b591bb1d7d3a",
   "metadata": {},
   "outputs": [
    {
     "name": "stdout",
     "output_type": "stream",
     "text": [
      "Scraping data from: https://www.melbourne.vic.gov.au/portable-advertising-board-permits\n",
      "Number of chunks: 11\n",
      "Vector database already exists. Loading it from disk.\n"
     ]
    },
    {
     "name": "stderr",
     "output_type": "stream",
     "text": [
      "/var/folders/1f/z6mh1kn910jd7cg_7qxv3b5c0000gn/T/ipykernel_74674/3232068243.py:65: LangChainDeprecationWarning: The class `Chroma` was deprecated in LangChain 0.2.9 and will be removed in 1.0. An updated version of the class exists in the :class:`~langchain-chroma package and should be used instead. To use it run `pip install -U :class:`~langchain-chroma` and import as `from :class:`~langchain_chroma import Chroma``.\n",
      "  vector_db = Chroma(persist_directory=persist_directory, embedding_function=embeddings)\n"
     ]
    },
    {
     "name": "stdout",
     "output_type": "stream",
     "text": [
      "LLM initialized successfully.\n",
      "\n",
      "--- Chatbot is Ready! ---\n",
      "I'm ready to answer questions about portable advertising board permits in Melbourne.\n",
      "Type 'exit' to end the conversation.\n",
      "-------------------------\n"
     ]
    },
    {
     "name": "stdin",
     "output_type": "stream",
     "text": [
      "\n",
      "Your question:  I just opened a cafe in the City of Melbourne, and I want to put a sandwich board on the footpath. What are the rules and do I need a permit?\n"
     ]
    },
    {
     "name": "stderr",
     "output_type": "stream",
     "text": [
      "/opt/anaconda3/envs/llms/lib/python3.11/site-packages/torch/nn/modules/module.py:1762: FutureWarning: `encoder_attention_mask` is deprecated and will be removed in version 4.55.0 for `BertSdpaSelfAttention.forward`.\n",
      "  return forward_call(*args, **kwargs)\n"
     ]
    },
    {
     "name": "stdout",
     "output_type": "stream",
     "text": [
      "\n",
      "--- Model Response ---\n",
      "To place a portable advertising board (sandwich board) on the footpath of your cafe in the City of Melbourne, you will need to obtain a permit.\n",
      "\n",
      "Here are the key requirements:\n",
      "\n",
      "1. You must hold public liability insurance with a minimum coverage of $20 million for a single claim.\n",
      "2. The policy must cover any location within the municipality and list City of Melbourne as an interested party.\n",
      "3. You need to upload a current letter on official letterhead from the property owner or body corporate (if your cafe is in a multi-tenanted property) stating they have no objection to placing a portable advertising board outside the property.\n",
      "4. There is a non-refundable application fee of $248 per application and a permit fee of $754 per permit.\n",
      "\n",
      "Before applying, you should review the permit conditions and ensure that your sandwich board will not be displayed in any prohibited areas, such as parks and gardens or designated areas with high pedestrian volumes.\n",
      "\n",
      "It's also worth noting that you should check if there are any other specific requirements or regulations for cafes in the City of Melbourne.\n",
      "\n",
      "--- Source Documents ---\n",
      "Document 1:\n",
      "will be responsible for ensuring: Please review the portable advertising board permit conditions: Portable advertising board permit conditions Portable advertising board permit conditions Once your application has been received, we'll arrange an inspection of the proposed board location to determine whether it is safe and appropriate to issue a permit. You will need to upload a public liability insurance certificate of currency with a minimum coverage of $20 million for a single claim. The policy must cover any location within the municipality and must list City of Melbourne as an interested party. Read more about our public liability insurance requirements. If you propose to place an advertising board in front of a multi-tenanted property, you will also need to upload a current letter on official letterhead from the property owner or body corporate, stating they have no objection to you placing a portable advertising board outside the property. A new letter is required when renewing\n",
      "\n",
      "Document 2:\n",
      "boards to be displayed across the municipality on a given day. To be eligible for this permit your agency must hold public liability insurance with a minimum coverage of $20 million. See supporting documents below for more information. Permit holders are responsible for ensuring: Please review the permit conditions: Real estate pointer board permit conditions Real estate pointer board permit conditions You need to upload a public liability insurance certificate of currency with a minimum coverage of $20 million for a single claim. The policy must cover any location within the municipality and must list City of Melbourne as an interested party. Read more about our public liability insurance requirements External link. Non-refundable​ application fee of $248 per application (payable at the time your online application is submitted). Permit fee of $754 per permit (payment must be made before the permit can be issued). Permits are valid for 12 months from the date of issue. Apply for a\n",
      "\n",
      "Document 3:\n",
      "vacancies and job opportunities on our Careers website. Explore council services, Melbourne landmarks and suburbs with our interactive maps. Suggestions Suggestions Businesses including real estate agencies need a permit to place any portable advertising board in a public place within the municipality. ​​​​​​​​​​​​​​​​​​​​​​​​​​​​​Public places include road-related areas, Council land, areas designated by Council or other locations where activities are likely to impact residents or visitors. Read more about how our Activities Local Law protects the amenity of public places. We do not permit portable advertising boards of any kind to be displayed in parks and gardens, or the following designated areas due to high pedestrian volumes: To be eligible for this permit:  As a permit holder, you will be responsible for ensuring: Please review the portable advertising board permit conditions: Portable advertising board permit conditions Portable advertising board permit conditions Once your\n",
      "\n",
      "Document 4:\n",
      "advice on how to start or grow your business.  Funding support for small businesses. Helping to keep our streets clean and minimise disturbance from late-night bin collection. Join the thousands of other businesses choosing Melbourne: the Venture Capital. Melbourne is the most exciting place to do business.  A guide to buying off-site renewable electricity. Discover our early literacy activities, storytimes, homework clubs, school holiday programs and more. First Nations community organisations can book spaces at our libraries and community hubs for free. We have nearly 480 hectares of parks and green spaces, Across our five centres, we offer a variety of fitness programs, swim facilities and membership options. Join challenges, book fitness classes and track your progress with our app. See in the New Year aboard your boat in Docklands. Bookings are limited, ballot entries open in September. Requirements for event permit applicants and guides for planning a safe, inclusive and\n",
      "\n"
     ]
    },
    {
     "name": "stdin",
     "output_type": "stream",
     "text": [
      "\n",
      "Your question:  How to apply for You must hold public liability insurance with a minimum coverage of $20 million for a single claim.\n"
     ]
    },
    {
     "name": "stderr",
     "output_type": "stream",
     "text": [
      "/opt/anaconda3/envs/llms/lib/python3.11/site-packages/torch/nn/modules/module.py:1762: FutureWarning: `encoder_attention_mask` is deprecated and will be removed in version 4.55.0 for `BertSdpaSelfAttention.forward`.\n",
      "  return forward_call(*args, **kwargs)\n"
     ]
    },
    {
     "name": "stdout",
     "output_type": "stream",
     "text": [
      "\n",
      "--- Model Response ---\n",
      "To apply for the permit, you need to upload a public liability insurance certificate of currency with a minimum coverage of $20 million for a single claim. The policy must cover any location within the municipality and must list City of Melbourne as an interested party.\n",
      "\n",
      "--- Source Documents ---\n",
      "Document 1:\n",
      "boards to be displayed across the municipality on a given day. To be eligible for this permit your agency must hold public liability insurance with a minimum coverage of $20 million. See supporting documents below for more information. Permit holders are responsible for ensuring: Please review the permit conditions: Real estate pointer board permit conditions Real estate pointer board permit conditions You need to upload a public liability insurance certificate of currency with a minimum coverage of $20 million for a single claim. The policy must cover any location within the municipality and must list City of Melbourne as an interested party. Read more about our public liability insurance requirements External link. Non-refundable​ application fee of $248 per application (payable at the time your online application is submitted). Permit fee of $754 per permit (payment must be made before the permit can be issued). Permits are valid for 12 months from the date of issue. Apply for a\n",
      "\n",
      "Document 2:\n",
      "official letterhead from the property owner or body corporate, stating they have no objection to you placing a portable advertising board outside the property. A new letter is required when renewing a permit. Non-refundable application fee of $248 per application.​ Permit fee of $754 per permit (payment must be made before the permit can be issued). Permits are valid for 12 months from the date of issue. Apply for a portable advertising board permit If you want to temporarily display boards or signs in public places advertising activities such as ‘for sale’, ‘for rent’, ‘open for inspection’ and ‘auction’, your real estate agency must have a permit.  Only one permit is required per agency or franchise. One permit allows a maximum of three boards to be displayed per event, and up to 10 boards to be displayed across the municipality on a given day. To be eligible for this permit your agency must hold public liability insurance with a minimum coverage of $20 million. See supporting\n",
      "\n",
      "Document 3:\n",
      "will be responsible for ensuring: Please review the portable advertising board permit conditions: Portable advertising board permit conditions Portable advertising board permit conditions Once your application has been received, we'll arrange an inspection of the proposed board location to determine whether it is safe and appropriate to issue a permit. You will need to upload a public liability insurance certificate of currency with a minimum coverage of $20 million for a single claim. The policy must cover any location within the municipality and must list City of Melbourne as an interested party. Read more about our public liability insurance requirements. If you propose to place an advertising board in front of a multi-tenanted property, you will also need to upload a current letter on official letterhead from the property owner or body corporate, stating they have no objection to you placing a portable advertising board outside the property. A new letter is required when renewing\n",
      "\n",
      "Document 4:\n",
      "time your online application is submitted). Permit fee of $754 per permit (payment must be made before the permit can be issued). Permits are valid for 12 months from the date of issue. Apply for a real estate board permit The City of Melbourne respectfully acknowledges the Traditional Owners of the land we govern, the Wurundjeri Woi-wurrung and Bunurong / Boon Wurrung peoples of the Kulin and pays respect to their Elders past and present.    We acknowledge and honour the unbroken spiritual, cultural and political connection they have maintained to this unique place for more than 2000 generations. We accept the invitation in the Uluru Statement from the Heart and are committed to walking together to build a better future.  © 2025 City of Melbourne\n",
      "\n"
     ]
    }
   ],
   "source": [
    "import requests\n",
    "from bs4 import BeautifulSoup\n",
    "from langchain.text_splitter import RecursiveCharacterTextSplitter\n",
    "from langchain_community.embeddings import HuggingFaceEmbeddings\n",
    "from langchain_community.vectorstores import Chroma\n",
    "from langchain.prompts import PromptTemplate\n",
    "from langchain_community.llms import Ollama\n",
    "from langchain.chains import RetrievalQA\n",
    "import os\n",
    "\n",
    "headers = {'User-Agent': 'Mozilla/5.0 (Windows NT 10.0; Win64; x64) AppleWebKit/537.36 (KHTML, like Gecko) Chrome/58.0.3029.110 Safari/537.3'}\n",
    "\n",
    "# Data Scraping Function\n",
    "def scrape_website(url):\n",
    "    \"\"\"Scrapes text from all <p> tags on a given URL.\"\"\"\n",
    "    print(f\"Scraping data from: {url}\")\n",
    "    try:\n",
    "        response = requests.get(url, headers=headers)\n",
    "        response.raise_for_status() \n",
    "        soup = BeautifulSoup(response.content, 'html.parser')\n",
    "        text = ' '.join([p.text for p in soup.find_all('p')])\n",
    "        if not text.strip():\n",
    "            print(\"Warning: No text found in <p> tags. Scrape may not be successful.\")\n",
    "        return text\n",
    "    except requests.exceptions.RequestException as e:\n",
    "        print(f\"Error during web scraping: {e}\")\n",
    "        return \"\"\n",
    "\n",
    "\n",
    "# Calling Data Scrape Function \n",
    "url = \"https://www.melbourne.vic.gov.au/portable-advertising-board-permits\"\n",
    "raw_text = scrape_website(url)\n",
    "\n",
    "if not raw_text:\n",
    "    print(\"Failed to get data from the URL. Exiting.\")\n",
    "    exit()\n",
    "\n",
    "# Text splitter Initialization\n",
    "text_splitter = RecursiveCharacterTextSplitter(\n",
    "    chunk_size=1000,\n",
    "    chunk_overlap=200,\n",
    "    length_function=len,\n",
    ")\n",
    "\n",
    "# Split the text into chunks\n",
    "chunks = text_splitter.split_text(raw_text)\n",
    "print(f\"Number of chunks: {len(chunks)}\")\n",
    "\n",
    "# Embedding Model\n",
    "model_name = \"sentence-transformers/all-MiniLM-L6-v2\"\n",
    "embeddings = HuggingFaceEmbeddings(model_name=model_name)\n",
    "\n",
    "# Create a vector store from the chunks\n",
    "persist_directory = \"./chroma_db\"\n",
    "if os.path.exists(persist_directory):\n",
    "    print(\"Vector database already exists. Loading it from disk.\")\n",
    "    vector_db = Chroma(persist_directory=persist_directory, embedding_function=embeddings)\n",
    "else:\n",
    "    print(\"Vector database not found. Creating and persisting it.\")\n",
    "    vector_db = Chroma.from_texts(\n",
    "        texts=chunks,\n",
    "        embedding=embeddings,\n",
    "        persist_directory=persist_directory\n",
    "    )\n",
    "    vector_db.persist()\n",
    "\n",
    "# --- One-time Setup: LLM and RAG Chain Configuration ---\n",
    "\n",
    "# Initialize the LLM (make sure Ollama is running with a model like 'llama3')\n",
    "# Note: Ollama must be running and the specified model must be available.\n",
    "try:\n",
    "    llm = Ollama(model=\"llama3.2\")\n",
    "    _ = llm.invoke(\"Hello, are you ready?\")\n",
    "    print(\"LLM initialized successfully.\")\n",
    "except Exception as e:\n",
    "    print(f\"Error initializing LLM: {e}\")\n",
    "    print(\"Please ensure Ollama is running and the 'llama3.2' model is installed.\")\n",
    "    exit()\n",
    "\n",
    "# Create a retriever from the vector store\n",
    "retriever = vector_db.as_retriever()\n",
    "\n",
    "# Create a prompt template for the LLM\n",
    "prompt_template = \"\"\"\n",
    "Use the following context to answer the question. If you don't know the answer, say you don't know.\n",
    "Context: {context}\n",
    "Question: {question}\n",
    "\"\"\"\n",
    "PROMPT = PromptTemplate(\n",
    "    template=prompt_template,\n",
    "    input_variables=[\"context\", \"question\"]\n",
    ")\n",
    "\n",
    "# Set up the RAG chain\n",
    "qa_chain = RetrievalQA.from_chain_type(\n",
    "    llm=llm,\n",
    "    chain_type=\"stuff\",\n",
    "    retriever=retriever,\n",
    "    return_source_documents=True,\n",
    "    chain_type_kwargs={\"prompt\": PROMPT}\n",
    ")\n",
    "\n",
    "# --- Chatbot --- \n",
    "print(\"\\n--- Chatbot is Ready! ---\")\n",
    "print(\"I'm ready to answer questions about portable advertising board permits in Melbourne.\")\n",
    "print(\"Type 'exit' to end the conversation.\")\n",
    "print(\"-\" * 25)\n",
    "\n",
    "while True:\n",
    "    user_query = input(\"\\nYour question: \")\n",
    "\n",
    "    # Check for an exit command\n",
    "    if user_query.lower() == 'exit':\n",
    "        print(\"Goodbye!\")\n",
    "        break\n",
    "\n",
    "    # Get the response from the RAG chain\n",
    "    try:\n",
    "        response = qa_chain.invoke({\"query\": user_query})\n",
    "\n",
    "        # Display the response\n",
    "        print(\"\\n--- Model Response ---\")\n",
    "        print(response['result'])\n",
    "\n",
    "        # Display the source documents\n",
    "        print(\"\\n--- Source Documents ---\")\n",
    "        for i, doc in enumerate(response['source_documents']):\n",
    "            print(f\"Document {i+1}:\\n{doc.page_content}\\n\")\n",
    "            \n",
    "    except Exception as e:\n",
    "        print(f\"An error occurred: {e}\")\n",
    "        print(\"Please check your LLM connection and try again.\")\n",
    "        continue\n"
   ]
  },
  {
   "cell_type": "code",
   "execution_count": null,
   "id": "74eb60f2-f595-4384-823e-fbc67165e465",
   "metadata": {},
   "outputs": [],
   "source": []
  }
 ],
 "metadata": {
  "kernelspec": {
   "display_name": "Python [conda env:llms]",
   "language": "python",
   "name": "conda-env-llms-py"
  },
  "language_info": {
   "codemirror_mode": {
    "name": "ipython",
    "version": 3
   },
   "file_extension": ".py",
   "mimetype": "text/x-python",
   "name": "python",
   "nbconvert_exporter": "python",
   "pygments_lexer": "ipython3",
   "version": "3.11.13"
  }
 },
 "nbformat": 4,
 "nbformat_minor": 5
}
